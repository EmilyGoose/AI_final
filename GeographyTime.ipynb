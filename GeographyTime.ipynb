{
 "cells": [
  {
   "cell_type": "code",
   "execution_count": 4,
   "metadata": {
    "collapsed": true
   },
   "outputs": [],
   "source": [
    "# Import statements and set up auth header\n",
    "import requests\n",
    "from config import foursquare_key\n",
    "auth_header = {\"Authorization\": foursquare_key}"
   ]
  },
  {
   "cell_type": "code",
   "execution_count": 18,
   "outputs": [
    {
     "data": {
      "text/plain": "{'results': [{'type': 'place',\n   'text': {'primary': 'Ontario Tech University',\n    'secondary': '2000 Simcoe St N, Oshawa, ON L1G 0C5',\n    'highlight': [{'start': 0, 'length': 7},\n     {'start': 8, 'length': 4},\n     {'start': 13, 'length': 10}]},\n   'link': '/v3/places/4adf9488f964a520c57b21e3',\n   'place': {'fsq_id': '4adf9488f964a520c57b21e3',\n    'categories': [],\n    'distance': 3237,\n    'geocodes': {'main': {'latitude': 43.944344, 'longitude': -78.895977}},\n    'location': {'address': '2000 Simcoe St N',\n     'country': 'CA',\n     'cross_street': 'Simcoe and Conlin',\n     'formatted_address': '2000 Simcoe St N (Simcoe and Conlin), Oshawa ON L1G 0C5',\n     'locality': 'Oshawa',\n     'postcode': 'L1G 0C5',\n     'region': 'ON'},\n    'name': 'Ontario Tech University'}},\n  {'type': 'place',\n   'text': {'primary': 'University of Ontario Institute of Technology',\n    'secondary': '2000 Simcoe St N, Oshawa, ON L1G 0C5',\n    'highlight': [{'start': 0, 'length': 10},\n     {'start': 14, 'length': 7},\n     {'start': 35, 'length': 4}]},\n   'link': '/v3/places/62529ea62b1b4d92fca0dd6a',\n   'place': {'fsq_id': '62529ea62b1b4d92fca0dd6a',\n    'categories': [{'id': 12013,\n      'name': 'College and University',\n      'icon': {'prefix': 'https://ss3.4sqi.net/img/categories_v2/education/default_',\n       'suffix': '.png'}}],\n    'distance': 3065,\n    'geocodes': {'main': {'latitude': 43.945657, 'longitude': -78.894568},\n     'roof': {'latitude': 43.945657, 'longitude': -78.894568}},\n    'location': {'address': '2000 Simcoe St N',\n     'country': 'CA',\n     'formatted_address': '2000 Simcoe St N, Oshawa ON L1G 0C5',\n     'locality': 'Oshawa',\n     'postcode': 'L1G 0C5',\n     'region': 'ON'},\n    'name': 'University of Ontario Institute of Technology'}},\n  {'type': 'place',\n   'text': {'primary': 'University of Ontario Institute of Technology - North Campus Library',\n    'secondary': '50 Founders Dr, Oshawa, ON ',\n    'highlight': [{'start': 0, 'length': 10},\n     {'start': 14, 'length': 7},\n     {'start': 35, 'length': 4}]},\n   'link': '/v3/places/4cbdae2143ec6dcb1f69b831',\n   'place': {'fsq_id': '4cbdae2143ec6dcb1f69b831',\n    'categories': [{'id': 12000,\n      'name': 'Community and Government',\n      'icon': {'prefix': 'https://ss3.4sqi.net/img/categories_v2/building/default_',\n       'suffix': '.png'}}],\n    'distance': 3126,\n    'geocodes': {'main': {'latitude': 43.945578, 'longitude': -78.897378},\n     'roof': {'latitude': 43.945578, 'longitude': -78.897378}},\n    'location': {'address': '50 Founders Dr',\n     'country': 'CA',\n     'cross_street': '',\n     'formatted_address': '50 Founders Dr, Oshawa ON',\n     'locality': 'Oshawa',\n     'postcode': '',\n     'region': 'ON'},\n    'name': 'University of Ontario Institute of Technology - North Campus Library'}},\n  {'type': 'address',\n   'text': {'primary': 'A-174 University Ave',\n    'secondary': 'Kingston, ON, K7L 3P4',\n    'highlight': [{'start': 0, 'length': 1}, {'start': 6, 'length': 10}]},\n   'link': '/v3/address/CA-435042340000000a2b8b',\n   'address': {'address_id': 'CA-435042340000000a2b8b'}},\n  {'type': 'address',\n   'text': {'primary': 'A-300 University Ave',\n    'secondary': 'Kingston, ON, K7L 3R2',\n    'highlight': [{'start': 0, 'length': 1}, {'start': 6, 'length': 10}]},\n   'link': '/v3/address/CA-435042340000000a364e',\n   'address': {'address_id': 'CA-435042340000000a364e'}},\n  {'type': 'address',\n   'text': {'primary': 'A-260 University Ave',\n    'secondary': 'Kingston, ON, K7L 3P9',\n    'highlight': [{'start': 0, 'length': 1}, {'start': 6, 'length': 10}]},\n   'link': '/v3/address/CA-435042340000000a45a2',\n   'address': {'address_id': 'CA-435042340000000a45a2'}},\n  {'type': 'address',\n   'text': {'primary': 'A-201 University Ave',\n    'secondary': 'Kingston, ON, K7L 3P7',\n    'highlight': [{'start': 0, 'length': 1}, {'start': 6, 'length': 10}]},\n   'link': '/v3/address/CA-435042340000000a1a17',\n   'address': {'address_id': 'CA-435042340000000a1a17'}},\n  {'type': 'address',\n   'text': {'primary': 'A-282 University Ave',\n    'secondary': 'Kingston, ON, K7L 3P9',\n    'highlight': [{'start': 0, 'length': 1}, {'start': 6, 'length': 10}]},\n   'link': '/v3/address/CA-435042340000000a8c67',\n   'address': {'address_id': 'CA-435042340000000a8c67'}},\n  {'type': 'address',\n   'text': {'primary': 'A-262 University Ave',\n    'secondary': 'Kingston, ON, K7L 3P9',\n    'highlight': [{'start': 0, 'length': 1}, {'start': 6, 'length': 10}]},\n   'link': '/v3/address/CA-435042340000000a8f2b',\n   'address': {'address_id': 'CA-435042340000000a8f2b'}},\n  {'type': 'address',\n   'text': {'primary': 'A-176 University Ave',\n    'secondary': 'Kingston, ON, K7L 3P4',\n    'highlight': [{'start': 0, 'length': 1}, {'start': 6, 'length': 10}]},\n   'link': '/v3/address/CA-435042340000000cc044',\n   'address': {'address_id': 'CA-435042340000000cc044'}}]}"
     },
     "execution_count": 18,
     "metadata": {},
     "output_type": "execute_result"
    }
   ],
   "source": [
    "# Test FourSquare API: Request autocomplete for search query and grab first result\n",
    "query = \"Ontario Tech University\"\n",
    "request = requests.get(\"https://api.foursquare.com/v3/autocomplete\", params={'query': query}, headers=auth_header)\n",
    "result = request.json()\n",
    "# Output result to jupyter\n",
    "result"
   ],
   "metadata": {
    "collapsed": false,
    "pycharm": {
     "name": "#%%\n"
    }
   }
  },
  {
   "cell_type": "code",
   "execution_count": 21,
   "outputs": [
    {
     "data": {
      "text/plain": "'2000 Simcoe St N (Simcoe and Conlin), Oshawa ON L1G 0C5'"
     },
     "execution_count": 21,
     "metadata": {},
     "output_type": "execute_result"
    }
   ],
   "source": [
    "# Return place for first result\n",
    "place_link = result['results'][0]['link']\n",
    "request_next = requests.get(\"https://api.foursquare.com\" + place_link, headers=auth_header)\n",
    "result_next = request_next.json()\n",
    "# Output place address\n",
    "result_next['location']['formatted_address']"
   ],
   "metadata": {
    "collapsed": false,
    "pycharm": {
     "name": "#%%\n"
    }
   }
  }
 ],
 "metadata": {
  "kernelspec": {
   "display_name": "Python 3",
   "language": "python",
   "name": "python3"
  },
  "language_info": {
   "codemirror_mode": {
    "name": "ipython",
    "version": 2
   },
   "file_extension": ".py",
   "mimetype": "text/x-python",
   "name": "python",
   "nbconvert_exporter": "python",
   "pygments_lexer": "ipython2",
   "version": "2.7.6"
  }
 },
 "nbformat": 4,
 "nbformat_minor": 0
}